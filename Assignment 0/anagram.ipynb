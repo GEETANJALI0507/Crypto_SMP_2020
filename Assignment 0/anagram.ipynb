{
 "cells": [
  {
   "cell_type": "code",
   "execution_count": 1,
   "metadata": {},
   "outputs": [],
   "source": [
    "from random import randint"
   ]
  },
  {
   "cell_type": "code",
   "execution_count": 2,
   "metadata": {
    "scrolled": true
   },
   "outputs": [
    {
     "name": "stdout",
     "output_type": "stream",
     "text": [
      "abcdef\n",
      "fedcba\n"
     ]
    }
   ],
   "source": [
    "s1 = input()\n",
    "s2 = input()\n",
    "\n",
    "if len(s1) != len(s2):\n",
    "    print('Not anagram')\n",
    "    exit(0)"
   ]
  },
  {
   "cell_type": "code",
   "execution_count": 3,
   "metadata": {},
   "outputs": [],
   "source": [
    "ag = []\n",
    "bg = []\n",
    "for i in range(5):\n",
    "    ag.append(randint(1,25))\n",
    "for i in range(5):\n",
    "    bg.append(randint(0,25))"
   ]
  },
  {
   "cell_type": "code",
   "execution_count": 4,
   "metadata": {},
   "outputs": [],
   "source": [
    "for a in ag:\n",
    "    for b in bg:\n",
    "        hash1 = 0\n",
    "        for ch in s1:\n",
    "            hash1 += (a*ord(ch) + b) % 29\n",
    "        hash2 = 0\n",
    "        for ch in s2:\n",
    "            hash2 += (a*ord(ch) + b) % 29\n",
    "        if hash1 != hash2:\n",
    "            print(\"Not anagram\")\n",
    "            exit(0)"
   ]
  },
  {
   "cell_type": "code",
   "execution_count": 5,
   "metadata": {
    "scrolled": true
   },
   "outputs": [
    {
     "name": "stdout",
     "output_type": "stream",
     "text": [
      "The probability that they are not anagram is same as that of a large UFO hitting the earth in next 1 second\n",
      "In other words, they are anagram\n"
     ]
    }
   ],
   "source": [
    "print(\"The probability that they are not anagram is same as that of a large UFO hitting the earth in next 1 second\")\n",
    "print(\"In other words, they are anagram\")"
   ]
  },
  {
   "cell_type": "code",
   "execution_count": null,
   "metadata": {},
   "outputs": [],
   "source": []
  }
 ],
 "metadata": {
  "kernelspec": {
   "display_name": "Python 3",
   "language": "python",
   "name": "python3"
  },
  "language_info": {
   "codemirror_mode": {
    "name": "ipython",
    "version": 3
   },
   "file_extension": ".py",
   "mimetype": "text/x-python",
   "name": "python",
   "nbconvert_exporter": "python",
   "pygments_lexer": "ipython3",
   "version": "3.7.6"
  }
 },
 "nbformat": 4,
 "nbformat_minor": 4
}
